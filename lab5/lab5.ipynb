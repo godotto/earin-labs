{
 "cells": [
  {
   "cell_type": "code",
   "execution_count": null,
   "metadata": {},
   "outputs": [],
   "source": [
    "import random\n",
    "\n",
    "import pandas as pd\n",
    "import numpy as np\n",
    "\n",
    "from sklearn.model_selection import train_test_split\n",
    "from sklearn.model_selection import KFold\n",
    "from sklearn.preprocessing import LabelEncoder, OneHotEncoder\n",
    "\n",
    "import torch \n",
    "import torch.nn as nn\n",
    "import torch.optim as optim\n",
    "import torch.nn.functional as f"
   ]
  },
  {
   "cell_type": "markdown",
   "metadata": {},
   "source": [
    "Prepare data"
   ]
  },
  {
   "cell_type": "code",
   "execution_count": null,
   "metadata": {},
   "outputs": [],
   "source": [
    "df = pd.read_csv(\"Iris.csv\")\n",
    "df.head()"
   ]
  },
  {
   "cell_type": "code",
   "execution_count": null,
   "metadata": {},
   "outputs": [],
   "source": [
    "df = df.drop([\"Id\"], axis=1)\n",
    "df.head()"
   ]
  },
  {
   "cell_type": "code",
   "execution_count": null,
   "metadata": {},
   "outputs": [],
   "source": [
    "df.info()"
   ]
  },
  {
   "cell_type": "code",
   "execution_count": null,
   "metadata": {},
   "outputs": [],
   "source": [
    "df.Species.unique()"
   ]
  },
  {
   "cell_type": "code",
   "execution_count": null,
   "metadata": {},
   "outputs": [],
   "source": [
    "X = df.drop([\"Species\"], axis=1).values\n",
    "Y = df[\"Species\"]"
   ]
  },
  {
   "cell_type": "code",
   "execution_count": null,
   "metadata": {},
   "outputs": [],
   "source": [
    "encoder = OneHotEncoder(sparse=False)\n",
    "Y = encoder.fit_transform(Y.values.reshape(-1, 1))"
   ]
  },
  {
   "cell_type": "code",
   "execution_count": null,
   "metadata": {},
   "outputs": [],
   "source": [
    "X_tensor = torch.from_numpy(X).type(torch.FloatTensor)\n",
    "Y_tensor = torch.from_numpy(Y).type(torch.FloatTensor)"
   ]
  },
  {
   "cell_type": "markdown",
   "metadata": {},
   "source": [
    "Define model"
   ]
  },
  {
   "cell_type": "code",
   "execution_count": null,
   "metadata": {},
   "outputs": [],
   "source": [
    "class Net(nn.Module):\n",
    "    def __init__(self, input_dim, output_dim):\n",
    "        super().__init__()\n",
    "\n",
    "        self.__input_layer = nn.Linear(input_dim, 200)\n",
    "        self.__hidden_layer = nn.Linear(200, 100)\n",
    "        self.__output_layer = nn.Linear(100, output_dim)\n",
    "\n",
    "    def forward(self, x):\n",
    "\n",
    "        # x = [batch size, height, width]\n",
    "\n",
    "        batch_size = x.shape[0]\n",
    "\n",
    "        x = x.view(batch_size, -1)\n",
    "\n",
    "        x = torch.transpose(x,0,1)\n",
    "\n",
    "        # x = [batch size, height * width]\n",
    "\n",
    "        h_1 = f.relu(self.__input_layer(x))\n",
    "\n",
    "        # h_1 = [batch size, 250]\n",
    "\n",
    "        h_2 = f.relu(self.__hidden_layer(h_1))\n",
    "\n",
    "        # h_2 = [batch size, 100]\n",
    "\n",
    "        y_pred = self.__output_layer(h_2)\n",
    "\n",
    "        # y_pred = [batch size, output dim]\n",
    "\n",
    "        return y_pred, h_2"
   ]
  },
  {
   "cell_type": "code",
   "execution_count": null,
   "metadata": {},
   "outputs": [],
   "source": [
    "class NeuralNetwork(nn.Module):\n",
    "    def __init__(self, input_dim, output_dim):\n",
    "        super().__init__()\n",
    "\n",
    "        self.linear_stack = nn.Sequential(\n",
    "            nn.Linear(input_dim, 200),\n",
    "            nn.ReLU(),\n",
    "            nn.Linear(200, 100),\n",
    "            nn.ReLU(),\n",
    "            nn.Linear(100, output_dim)\n",
    "        )\n",
    "\n",
    "    def forward(self, x):\n",
    "        return self.linear_stack(x)"
   ]
  },
  {
   "cell_type": "markdown",
   "metadata": {},
   "source": [
    "Prepare training and test procedures"
   ]
  },
  {
   "cell_type": "code",
   "execution_count": null,
   "metadata": {},
   "outputs": [],
   "source": [
    "INPUT_DIM = 4\n",
    "OUTPUT_DIM = 3\n",
    "\n",
    "model = Net(INPUT_DIM, OUTPUT_DIM)\n",
    "\n",
    "# choose Stochastic Gradient Descent for optimization\n",
    "optimizer = optim.SGD(model.parameters(), lr=0.01)"
   ]
  },
  {
   "cell_type": "code",
   "execution_count": null,
   "metadata": {},
   "outputs": [],
   "source": [
    "def calculate_accuracy(y_pred, y):\n",
    "    top_pred = y_pred.argmax(1, keepdim=True)\n",
    "    num_correct_pred = top_pred.eq(y.view_as(top_pred)).sum()\n",
    "    accuracy = num_correct_pred / y.shape[0]\n",
    "    return accuracy\n",
    "\n",
    "\n",
    "def train(model, x_train, y_train, loss_func, device):\n",
    "    train_loss,train_accuracy=0.0,0.0\n",
    "    model.train()\n",
    "\n",
    "    for i,data in enumerate(x_train):\n",
    "        data,y_train[i] = data.to(device),y_train[i].to(device)\n",
    "\n",
    "        optimizer.zero_grad()\n",
    "\n",
    "        result = list(model(data))\n",
    "        result[0] = result[0]\n",
    "        loss = loss_func(result[0],y_train[i])\n",
    "\n",
    "        loss.backward()\n",
    "        optimizer.step()\n",
    "\n",
    "        accuracy = calculate_accuracy(result[0],y_train[i])\n",
    "        train_loss += loss.item() \n",
    "        train_accuracy+= accuracy.item()\n",
    "\n",
    "    return train_loss/ len(y_train), train_accuracy / len(y_train)    \n",
    "   \n",
    "\n",
    "\n",
    "def test(model,x_test,y_test, loss_func, device):\n",
    "    test_loss, test_accuracy = 0.0, 0\n",
    "    model.eval()\n",
    "\n",
    "    for i,data in enumerate(x_test):\n",
    "        data,y_test[i] = data.to(device),y_test[i].to(device)\n",
    "\n",
    "        result = list(model(data))\n",
    "        result[0] = result[0].view(3,-1)\n",
    "        loss=loss_func(result[0],y_test[i].view(3,-1))\n",
    "\n",
    "        accuracy = calculate_accuracy(result[0],y_train[i])\n",
    "        test_loss += loss.item() \n",
    "        test_accuracy+= accuracy.item()\n",
    "\n",
    "       \n",
    "\n",
    "    return test_loss/ len(y_train), test_accuracy / len(y_train)  \n",
    "\n",
    "def kfold(model,X, Y, loss_func, device, k):\n",
    "    kf = KFold(n_splits = k)\n",
    "    kf.get_n_splits(X)\n",
    "\n",
    "    fold=0\n",
    "    for train_id, test_id in kf.split(X):\n",
    "\n",
    "        print(f\"Fold {fold+1}\")    \n",
    "        x_train, x_test = X[train_id], X[test_id]\n",
    "        y_train, y_test = Y[train_id], Y[test_id]\n",
    "\n",
    "        for epoch in range(num_epochs):    \n",
    "            train_loss, train_accuracy = train(model,x_train,y_train,loss_func,device)\n",
    "            test_loss, test_accuracy = train(model,x_test,y_test,loss_func,device)\n",
    "        print(f\"Epoch:{epoch+1}/{num_epochs} Training loss:{train_loss} Training accuracy:{train_accuracy} Test loss:{test_loss} Test accuracy:{test_accuracy} \\n\") "
   ]
  },
  {
   "cell_type": "markdown",
   "metadata": {},
   "source": [
    "Model 1: Loss function: Cross Entropy Loss, Layers: 2"
   ]
  },
  {
   "cell_type": "code",
   "execution_count": null,
   "metadata": {},
   "outputs": [],
   "source": [
    "crossEntropyLoss = nn.CrossEntropyLoss\n",
    "\n",
    "# choose GPU for computations if possible\n",
    "device = torch.device('cuda' if torch.cuda.is_available() else 'cpu')\n",
    "model_1 = model.to(device)\n",
    "#loss_func = loss_func.to(device)"
   ]
  },
  {
   "cell_type": "code",
   "execution_count": null,
   "metadata": {},
   "outputs": [],
   "source": [
    "x_train, x_test, y_train, y_test = train_test_split(X_tensor, Y_tensor)\n",
    "\n",
    "best_valid_loss = float('inf')\n",
    "\n",
    "num_epochs = 12\n",
    "for epoch in range(num_epochs):\n",
    "    train_loss,train_accuracy = train(model =model_1,x_train = x_train,y_train = y_train,loss_func=crossEntropyLoss,device=device)\n",
    "    test_loss, test_accuracy = test(model = model_1,x_test = x_test,y_test = y_test,loss_func=crossEntropyLoss,device=device)\n",
    "\n",
    "    if test_loss < best_valid_loss:\n",
    "        best_valid_loss = test_loss\n",
    "\n",
    "    print(f\"Epoch:{epoch+1}/{num_epochs} Training loss:{train_loss} Training accuracy:{train_accuracy} Test loss:{test_loss} Test accuracy:{test_accuracy} \\n\")"
   ]
  },
  {
   "cell_type": "code",
   "execution_count": null,
   "metadata": {},
   "outputs": [],
   "source": [
    "\n",
    "#kfold(model=model_1,X=X_tensor,Y=Y_tensor,loss_func= crossEntropyLoss,device=device,k=5)"
   ]
  }
 ],
 "metadata": {
  "interpreter": {
   "hash": "51141403eff7a1f8e8ef1f95cd7b0e9c199a48b6c6715bd6cc8c09fbfa5cb62e"
  },
  "kernelspec": {
   "display_name": "Python 3.10.2 ('lab5': venv)",
   "language": "python",
   "name": "python3"
  },
  "language_info": {
   "codemirror_mode": {
    "name": "ipython",
    "version": 3
   },
   "file_extension": ".py",
   "mimetype": "text/x-python",
   "name": "python",
   "nbconvert_exporter": "python",
   "pygments_lexer": "ipython3",
   "version": "3.10.2"
  },
  "orig_nbformat": 4
 },
 "nbformat": 4,
 "nbformat_minor": 2
}
